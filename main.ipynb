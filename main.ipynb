{
 "cells": [
  {
   "cell_type": "markdown",
   "metadata": {},
   "source": [
    "### Data Load"
   ]
  },
  {
   "cell_type": "code",
   "execution_count": null,
   "metadata": {},
   "outputs": [],
   "source": [
    "dir_data = 'data/'\n",
    "dir_raw = 'data/raw/'\n",
    "dir_preprocessed = 'data/preprocessed/'"
   ]
  },
  {
   "cell_type": "markdown",
   "metadata": {},
   "source": [
    "##### Librerias"
   ]
  },
  {
   "cell_type": "markdown",
   "metadata": {},
   "source": [
    "En este apartado, vamos a importar todas las librerías necesarias para realizar las tareas de la práctica, como el análisis y procesamiento de datos, generar el modelo, etc. Estas librerías son numpy, matplotlib, pandas, seaborn, xgboost, sklearn y shap. Estas librerías nos permiten manipular, visualizar y analizar los datos de manera eficiente."
   ]
  },
  {
   "cell_type": "code",
   "execution_count": null,
   "metadata": {},
   "outputs": [],
   "source": [
    "# Librerias\n",
    "import os\n",
    "\n",
    "import matplotlib.pyplot as plt\n",
    "import numpy as np\n",
    "import pandas as pd\n",
    "import seaborn as sns\n",
    "import shap\n",
    "from sklearn.datasets import load_breast_cancer\n",
    "from sklearn.metrics import accuracy_score, classification_report, confusion_matrix, roc_auc_score, roc_curve\n",
    "from sklearn.model_selection import train_test_split\n",
    "from sklearn.preprocessing import LabelEncoder, MinMaxScaler\n",
    "from xgboost import XGBClassifier"
   ]
  },
  {
   "cell_type": "markdown",
   "metadata": {},
   "source": [
    "### EDA"
   ]
  },
  {
   "cell_type": "markdown",
   "metadata": {},
   "source": [
    "Una vez que se han cargado, se pueden configurar algunas opciones para optimizar la visualización y el manejo de datos en pandas:"
   ]
  },
  {
   "cell_type": "code",
   "execution_count": null,
   "metadata": {},
   "outputs": [],
   "source": [
    "pd.set_option('display.max_columns', None)  # Muestra todas las columnas\n",
    "pd.set_option('display.max_rows', None)     # Muestra todas las filas (¡cuidado con dataframes muy grandes!)\n",
    "pd.set_option('display.width', 1000)        # Ajusta el ancho del output\n",
    "pd.set_option('display.expand_frame_repr', False)  # Evita saltos de linea en columnas grandes\n"
   ]
  },
  {
   "cell_type": "markdown",
   "metadata": {},
   "source": [
    "##### Análisis preliminar"
   ]
  },
  {
   "cell_type": "markdown",
   "metadata": {},
   "source": [
    "Transformamos todos los archivos en formato CSV y añadimos una fila al final indicando la maniobra que se está representando en el conjunto de datos."
   ]
  },
  {
   "cell_type": "code",
   "execution_count": null,
   "metadata": {},
   "outputs": [],
   "source": [
    "# Asignar otro atributo a cada dataframe de cada archivo (el nombre del archivo) y eliminacion de la primera parte 'STISIMData:'.\n",
    "\n",
    "# files = os.listdir(dir_raw)\n",
    "# dfs = []\n",
    "# for driver in files:\n",
    "#     files = os.listdir(dir_raw + driver)\n",
    "#     for file in files:\n",
    "#         df = pd.read_excel(dir_raw + driver + '/' + file)\n",
    "#         df['maniobra'] = file[11:-5]\n",
    "#         df.to_csv(dir_preprocessed + '/column_added/' + driver + '_' + file[11:-5], index=False)\n",
    "#         dfs.append(df)\n",
    "#         #print(file + ' processed')\n",
    "#     print(driver + ' processed')"
   ]
  },
  {
   "cell_type": "code",
   "execution_count": null,
   "metadata": {},
   "outputs": [],
   "source": [
    "dfs = []\n",
    "for file in os.listdir(dir_preprocessed + '/column_added'):\n",
    "    df = pd.read_csv(dir_preprocessed + '/column_added/' + file)\n",
    "    dfs.append(df)"
   ]
  },
  {
   "cell_type": "markdown",
   "metadata": {},
   "source": [
    "##### Valores Faltantes"
   ]
  },
  {
   "cell_type": "markdown",
   "metadata": {},
   "source": [
    "Es importante verificar si hay valores faltantes en los datos, ya que pueden afectar el rendimiento del modelo. Para ello, calculamos la media de los valores faltantes por columna en cada DataFrame y mostramos los resultados."
   ]
  },
  {
   "cell_type": "code",
   "execution_count": null,
   "metadata": {},
   "outputs": [],
   "source": [
    "# plot missing values\n",
    "for df in dfs:\n",
    "    print(df.isnull().mean())\n",
    "    # sns.heatmap(df.isnull(), cbar=False)\n",
    "    # plt.show()"
   ]
  },
  {
   "cell_type": "markdown",
   "metadata": {},
   "source": [
    "Como podemos ver, hay columnas que tienen una gran cantidad de valores faltantes (>99%), por lo que procedemos a eliminarlas.\n",
    "\n",
    "Aunque pueden ser relevantes, las consideramos no informativas ya que la cantidad es demasiado pequeña.\n",
    "\n",
    "Nota: Pueden representar accidentes ya que el porcentaje de valores faltantes en ellas es el mismo."
   ]
  },
  {
   "cell_type": "markdown",
   "metadata": {},
   "source": [
    "Asumimos que estas filas son extras, las instancias están bien."
   ]
  },
  {
   "cell_type": "code",
   "execution_count": null,
   "metadata": {},
   "outputs": [],
   "source": [
    "dfs = [df.drop( columns=['Accidents', 'Collisions', 'Peds Hit', 'Speeding Tics', 'Red Lgt Tics', 'Speed Exceed', 'Stop Sign Ticks']) for df in dfs]"
   ]
  },
  {
   "cell_type": "markdown",
   "metadata": {},
   "source": [
    "Desechamos Long Dist, Lat Pos, Throtle input, etc. porque no son necesarias (segun el enunciado)\n",
    "\n",
    "Utilizaremos:\n",
    "\n",
    "* Speed - Velocidad\n",
    "* RPM - Revoluciones por minuto \n",
    "* Steering Wheel angle - Ángulo del volante.  \n",
    "* Gas Pedal - Pedal del acelerador. \n",
    "* Brake Pedal - Pedal del freno (b),  \n",
    "* Clutch Pedal - Pedal del embrague  \n",
    "* Gear – Marcha."
   ]
  },
  {
   "cell_type": "markdown",
   "metadata": {},
   "source": [
    "Nota: Tras ejecutar el modelo (clasificación multiclase con xgboost) con un extremadamente alto rendimiento, se sospechó de que hubiese fuga de datos. Para comprobarlo, se realizaron varias pruebas quitando atributos de manera selectiva hasta que se vio una caída abismal de la precisión cuando se quitaron los atributos de Latitud y Longitud. Se sospecha que esto podría ser algo del simulador de donde se obtuvieron los datos."
   ]
  },
  {
   "cell_type": "code",
   "execution_count": null,
   "metadata": {},
   "outputs": [],
   "source": [
    "dfs = [df.drop(columns=['Elapsed time', 'Long Dist', 'Lat Pos', 'Hand wheel torque', 'Throttle input']) for df in dfs]"
   ]
  },
  {
   "cell_type": "code",
   "execution_count": null,
   "metadata": {},
   "outputs": [],
   "source": [
    "dfs[0].head()"
   ]
  },
  {
   "cell_type": "markdown",
   "metadata": {},
   "source": [
    "Una vez que los datos están cargados y preprocesados, obtenemos una visión general de las estadísticas descriptivas de las columnas. Esto nos ayuda a entender las distribuciones y el rango de los datos, así como a identificar posibles valores atípicos."
   ]
  },
  {
   "cell_type": "code",
   "execution_count": null,
   "metadata": {},
   "outputs": [],
   "source": [
    "for df in dfs:\n",
    "    # Imprimir el maximo, minimo y promedio de cada columna\n",
    "    print(df.describe().loc[['max', 'min', 'mean']])"
   ]
  },
  {
   "cell_type": "code",
   "execution_count": null,
   "metadata": {},
   "outputs": [],
   "source": [
    "# Mostrar un histograma de cada columna con el titulo 'maniobra'\n",
    "# for df in dfs:\n",
    "#     df.hist(figsize=(20, 20))\n",
    "#     plt.suptitle(df['maniobra'][0])\n",
    "#     plt.show()"
   ]
  },
  {
   "cell_type": "markdown",
   "metadata": {},
   "source": [
    "No vemos valores atípicos claros o valores incorrectos, por lo que no eliminaremos ninguna instancia."
   ]
  },
  {
   "cell_type": "markdown",
   "metadata": {},
   "source": [
    "Dado que hay instancias donde no se realizan maniobras, decidimos eliminarlas ya que no proporcionan información útil."
   ]
  },
  {
   "cell_type": "code",
   "execution_count": null,
   "metadata": {},
   "outputs": [],
   "source": [
    "# Eliminar las filas del dataframe que tienen 0 en 'Maneuver marker flag'\n",
    "dfs_cleaned = []\n",
    "for df in dfs:\n",
    "    # Encuentra los indices donde 'Maneuver marker flag' es 1\n",
    "    marker_indices = df[df['Maneuver marker flag'] == 1].index\n",
    "\n",
    "    if not marker_indices.empty:  # Si hay al menos un 1 en la columna\n",
    "        last_index = marker_indices[-1]  # Ultima ocurrencia de 1\n",
    "        dfs_cleaned.append(df.iloc[:last_index + 1])  # Mantener todo hasta ahi\n",
    "    else:\n",
    "        dfs_cleaned.append(df)  # Si no hay 1s, mantener el DataFrame intacto\n",
    "\n",
    "dfs = dfs_cleaned"
   ]
  },
  {
   "cell_type": "markdown",
   "metadata": {},
   "source": [
    "Observamos que el 3 step turning puede ser tanto 3step-Turning como 3step-Turnings, por lo que nos quedamos con la primera"
   ]
  },
  {
   "cell_type": "code",
   "execution_count": null,
   "metadata": {},
   "outputs": [],
   "source": [
    "# Cambiar el valor de la columna 'maniobra' de \"3step-Turnings\" a \"3step-Turn\"\n",
    "def change_maniobra(df):\n",
    "    df['maniobra'] = df['maniobra'].apply(lambda x: '3step-Turning' if x == '3step-Turnings' else x)\n",
    "    return df"
   ]
  },
  {
   "cell_type": "code",
   "execution_count": null,
   "metadata": {},
   "outputs": [],
   "source": [
    "dfs = [change_maniobra(df) for df in dfs]"
   ]
  },
  {
   "cell_type": "markdown",
   "metadata": {},
   "source": [
    "##### Concatenar en drivers"
   ]
  },
  {
   "cell_type": "markdown",
   "metadata": {},
   "source": [
    "Combinamos los distintos DataFrames de cada conductor en un único DataFrame para facilitar su procesamiento. Esto nos permitirá entrenar el modelo con un conjunto de datos unificado y obtener mejores generalizaciones.\n",
    "\n",
    "Antes de concatenar los DataFrames, es importante dividir los datos en conjuntos de entrenamiento y prueba para evaluar el rendimiento del modelo de manera objetiva. Usaremos una proporción de 4:1, es decir, el 80% de los datos para entrenamiento y el 20% para prueba."
   ]
  },
  {
   "cell_type": "code",
   "execution_count": null,
   "metadata": {},
   "outputs": [],
   "source": [
    "# Separar los dataframes en entrenamiento y prueba en una proporcion de 4 a 1\n",
    "dfs_train = dfs[:-10]\n",
    "dfs_test = dfs[-10:]"
   ]
  },
  {
   "cell_type": "markdown",
   "metadata": {},
   "source": [
    "Ahora, combinamos todos los DataFrames en un solo DataFrame para cada conjunto (entrenamiento y prueba). Esto facilita el manejo de los datos, ya que tendremos un único DataFrame con todas las muestras en lugar de múltiples archivos separados."
   ]
  },
  {
   "cell_type": "code",
   "execution_count": null,
   "metadata": {},
   "outputs": [],
   "source": [
    "# Combinar los dataframes de entrenamiento\n",
    "df_train = pd.concat(dfs_train)\n",
    "# Combinar los dataframes de prueba\n",
    "df_test = pd.concat(dfs_test)"
   ]
  },
  {
   "cell_type": "markdown",
   "metadata": {},
   "source": [
    "##### Aplanar Conjunto de Datos"
   ]
  },
  {
   "cell_type": "markdown",
   "metadata": {},
   "source": [
    "Ahora procedemos a aplanar los datos. Esto significa que vamos a transformar los datos secuenciales en una representación más estructurada que pueda ser utilizada por un modelo de Machine Learning de manera eficiente.\n",
    "\n",
    "Dado que los datos están organizados temporalmente, utilizaremos agregaciones estadísticas y medias móviles para capturar la información relevante en cada segmento de conducción."
   ]
  },
  {
   "cell_type": "code",
   "execution_count": null,
   "metadata": {},
   "outputs": [],
   "source": [
    "def flattenMA(df):\n",
    "    # Define cuales columnas son numericas y cuales categoricas\n",
    "    numeric_cols = df.select_dtypes(include=[np.number]).columns.tolist()\n",
    "    # Quitamos 'flag' de la lista numerica (si no queremos procesarla)\n",
    "    if 'Maneuver marker flag' in numeric_cols:\n",
    "        numeric_cols.remove('Maneuver marker flag')\n",
    "\n",
    "    categorical_cols = df.select_dtypes(exclude=[np.number]).columns.tolist()\n",
    "\n",
    "    # Define las ventanas para los moving averages\n",
    "    window1 = 30\n",
    "    window2 = 60\n",
    "    window3 = 100\n",
    "    window4 = 150 \n",
    "    window5 = 200\n",
    "    window6 = 200\n",
    "\n",
    "    # Separamos el DataFrame en segmentos:\n",
    "    # Cada segmento contiene las filas con flag==0 hasta antes de aparecer un 1.\n",
    "    segments = []\n",
    "    segment_rows = []\n",
    "\n",
    "    for _, row in df.iterrows():\n",
    "        if row['Maneuver marker flag'] == 1:\n",
    "            # Cuando encontramos un 1, si tenemos filas acumuladas en el segmento, lo agregamos y reiniciamos\n",
    "            if segment_rows:\n",
    "                segments.append(pd.DataFrame(segment_rows))\n",
    "                segment_rows = []\n",
    "        else:\n",
    "            segment_rows.append(row)\n",
    "\n",
    "    # Agregar el ultimo segmento (si no finaliza en 1)\n",
    "    if segment_rows:\n",
    "        segments.append(pd.DataFrame(segment_rows))\n",
    "\n",
    "    # Procesamos cada segmento para obtener las agregaciones:\n",
    "    result = []\n",
    "    for seg in segments:\n",
    "        seg_result = {}\n",
    "        \n",
    "        # Para las columnas numericas, calculamos dos moving averages y tomamos el ultimo valor de cada serie\n",
    "        for col in numeric_cols:\n",
    "            # Calculate MA according to the window\n",
    "            ma1 = seg[col].rolling(window=window1, min_periods=1).mean().iloc[-1]\n",
    "            ma2 = seg[col].rolling(window=window2, min_periods=1).mean().iloc[-1]\n",
    "            ma3 = seg[col].rolling(window=window3, min_periods=1).mean().iloc[-1]\n",
    "            ma4 = seg[col].rolling(window=window4, min_periods=1).mean().iloc[-1]\n",
    "            ma5 = seg[col].rolling(window=window5, min_periods=1).mean().iloc[-1]\n",
    "            # ma6 = seg[col].rolling(window=window6, min_periods=1).mean().iloc[-1]\n",
    "\n",
    "            seg_result[f\"{col}_ma1\"] = ma1\n",
    "            seg_result[f\"{col}_ma2\"] = ma2\n",
    "            seg_result[f\"{col}_ma3\"] = ma3\n",
    "            seg_result[f\"{col}_ma4\"] = ma4\n",
    "            seg_result[f\"{col}_ma5\"] = ma5\n",
    "            # seg_result[f\"{col}_ma6\"] = ma6\n",
    "        \n",
    "        # Para las columnas categoricas, se extrae una lista de valores unicos que aparecieron\n",
    "        for col in categorical_cols:\n",
    "            unique_vals = seg[col].unique().tolist()\n",
    "            seg_result[col] = unique_vals\n",
    "        \n",
    "        result.append(seg_result)\n",
    "\n",
    "    # Se crea el DataFrame final aplanado (cada fila es un segmento)\n",
    "    df_result = pd.DataFrame(result)\n",
    "    return df_result"
   ]
  },
  {
   "cell_type": "markdown",
   "metadata": {},
   "source": [
    "Aplicamos la función flattenMA() a los conjuntos de entrenamiento y prueba para obtener la versión aplanada de los datos."
   ]
  },
  {
   "cell_type": "code",
   "execution_count": null,
   "metadata": {},
   "outputs": [],
   "source": [
    "df_train_flat = flattenMA(df_train)\n",
    "df_test_flat = flattenMA(df_test)"
   ]
  },
  {
   "cell_type": "markdown",
   "metadata": {},
   "source": [
    "Comprobamos si la distribución de maniobras sigue siendo balanceada o si hay alguna clase que domine en exceso."
   ]
  },
  {
   "cell_type": "code",
   "execution_count": null,
   "metadata": {},
   "outputs": [],
   "source": [
    "print(df_train_flat['maniobra'].value_counts())\n",
    "print(df_test_flat['maniobra'].value_counts())"
   ]
  },
  {
   "cell_type": "markdown",
   "metadata": {},
   "source": [
    "Hemos verificado que no hay problemas con maniobra, así que eliminamos la lista y mantenemos el elemento que contiene."
   ]
  },
  {
   "cell_type": "code",
   "execution_count": null,
   "metadata": {},
   "outputs": [],
   "source": [
    "df_train_flat['maniobra'] = df_train_flat['maniobra'].apply(lambda x: x[0])\n",
    "\n",
    "df_test_flat['maniobra'] = df_test_flat['maniobra'].apply(lambda x: x[0])"
   ]
  },
  {
   "cell_type": "code",
   "execution_count": null,
   "metadata": {},
   "outputs": [],
   "source": [
    "df_train_flat.head(3)"
   ]
  },
  {
   "cell_type": "markdown",
   "metadata": {},
   "source": [
    "Para asegurar que los datos procesados se puedan reutilizar sin repetir todo este proceso, guardamos los DataFrames en formato CSV."
   ]
  },
  {
   "cell_type": "code",
   "execution_count": null,
   "metadata": {},
   "outputs": [],
   "source": [
    "# Guardar en CSV\n",
    "df_train_flat.to_csv(dir_preprocessed + 'non_minmax/' + 'train_flat.csv', index=False)\n",
    "df_test_flat.to_csv(dir_preprocessed + 'non_minmax/' + 'test_flat.csv', index=False)"
   ]
  },
  {
   "cell_type": "markdown",
   "metadata": {},
   "source": [
    "### Entrenamiento del Modelo (Clasificador Multiclase)"
   ]
  },
  {
   "cell_type": "markdown",
   "metadata": {},
   "source": [
    "En esta sección, tomamos los datos aplanados y los preparamos para entrenar un modelo de clasificación multiclase. Nuestro objetivo es entrenar un modelo que pueda predecir correctamente la maniobra realizada en función de las características extraídas."
   ]
  },
  {
   "cell_type": "markdown",
   "metadata": {},
   "source": [
    "##### Asignar Datos"
   ]
  },
  {
   "cell_type": "markdown",
   "metadata": {},
   "source": [
    "Ahora que los datos han sido transformados, los separamos en variables independientes (X) y la variable objetivo (y)."
   ]
  },
  {
   "cell_type": "code",
   "execution_count": null,
   "metadata": {},
   "outputs": [],
   "source": [
    "X_train = df_train_flat.drop(columns='maniobra')\n",
    "y_train = df_train_flat['maniobra']\n",
    "X_test = df_test_flat.drop(columns='maniobra')\n",
    "y_test = df_test_flat['maniobra']"
   ]
  },
  {
   "cell_type": "markdown",
   "metadata": {},
   "source": [
    "Antes de continuar, es útil verificar que las características se han asignado correctamente."
   ]
  },
  {
   "cell_type": "code",
   "execution_count": null,
   "metadata": {},
   "outputs": [],
   "source": [
    "X_test.head()"
   ]
  },
  {
   "cell_type": "markdown",
   "metadata": {},
   "source": [
    "##### Escalado MinMax"
   ]
  },
  {
   "cell_type": "markdown",
   "metadata": {},
   "source": [
    "Para mejorar el rendimiento del modelo, normalizamos las características numéricas utilizando MinMaxScaler. Esto asegura que todas las variables estén en un rango similar (entre 0 y 1), evitando que algunas con valores más grandes dominen sobre otras."
   ]
  },
  {
   "cell_type": "code",
   "execution_count": null,
   "metadata": {},
   "outputs": [],
   "source": [
    "scaler = MinMaxScaler()\n",
    "X_train_scaled = scaler.fit_transform(X_train)\n",
    "X_test_scaled = scaler.transform(X_test)"
   ]
  },
  {
   "cell_type": "markdown",
   "metadata": {},
   "source": [
    "##### Codificación de y"
   ]
  },
  {
   "cell_type": "markdown",
   "metadata": {},
   "source": [
    "Los modelos de Machine Learning no trabajan con etiquetas categóricas como la maniobra. Por ello, convertimos la variable objetivo (y) en valores numéricos mediante LabelEncoder."
   ]
  },
  {
   "cell_type": "code",
   "execution_count": null,
   "metadata": {},
   "outputs": [],
   "source": [
    "le = LabelEncoder()\n",
    "y_train_encoded = le.fit_transform(y_train)\n",
    "y_test_encoded = le.transform(y_test)"
   ]
  },
  {
   "cell_type": "markdown",
   "metadata": {},
   "source": [
    "Para comprobar que la transformación es correcta, podemos visualizar el mapeo entre clases y números."
   ]
  },
  {
   "cell_type": "code",
   "execution_count": null,
   "metadata": {},
   "outputs": [],
   "source": [
    "print(y_test_encoded)"
   ]
  },
  {
   "cell_type": "markdown",
   "metadata": {},
   "source": [
    "##### Entrenamiento"
   ]
  },
  {
   "cell_type": "markdown",
   "metadata": {},
   "source": [
    "Ahora que hemos preprocesado los datos, es momento de entrenar el modelo. Utilizaremos XGBoost, un algoritmo basado en árboles de decisión que es eficiente y suele ofrecer un buen rendimiento en tareas de clasificación multiclase."
   ]
  },
  {
   "cell_type": "code",
   "execution_count": null,
   "metadata": {},
   "outputs": [],
   "source": [
    "num_classes = y_train.nunique()"
   ]
  },
  {
   "cell_type": "code",
   "execution_count": null,
   "metadata": {},
   "outputs": [],
   "source": [
    "# Se usa 'multi:softmax' para que se devuelvan las etiquetas o 'multi:softprob' para probabilidades.\n",
    "model = XGBClassifier(\n",
    "    objective='multi:softprob',  # 'multi:softprob' si se prefiere probabilidades\n",
    "    num_class=num_classes,\n",
    "    use_label_encoder=False,\n",
    "    eval_metric='mlogloss',\n",
    "    random_state=42\n",
    ")"
   ]
  },
  {
   "cell_type": "code",
   "execution_count": null,
   "metadata": {},
   "outputs": [],
   "source": [
    "model.fit(X_train_scaled, y_train_encoded)"
   ]
  },
  {
   "cell_type": "markdown",
   "metadata": {},
   "source": [
    "##### Predicciones"
   ]
  },
  {
   "cell_type": "markdown",
   "metadata": {},
   "source": [
    "Después de entrenar el modelo, utilizamos los datos de prueba para realizar predicciones y evaluar su rendimiento."
   ]
  },
  {
   "cell_type": "code",
   "execution_count": null,
   "metadata": {},
   "outputs": [],
   "source": [
    "y_pred = model.predict(X_test_scaled)"
   ]
  },
  {
   "cell_type": "markdown",
   "metadata": {},
   "source": [
    "##### Métricas"
   ]
  },
  {
   "cell_type": "markdown",
   "metadata": {},
   "source": [
    "Evaluamos el modelo utilizando precisión, el reporte de clasificación, la matriz de confusión y la curva ROC."
   ]
  },
  {
   "cell_type": "code",
   "execution_count": null,
   "metadata": {},
   "outputs": [],
   "source": [
    "def get_accuracy(y_test, y_pred, multiclass = False):\n",
    "    # Calcular la exactitud\n",
    "    accuracy = accuracy_score(y_test, y_pred)\n",
    "    print(\"Accuracy:\", accuracy)\n",
    "\n",
    "    # Generar y mostrar el reporte de clasificacion\n",
    "    print(\"Reporte de Clasificacion:\")\n",
    "    print(classification_report(y_test, y_pred))\n",
    "    \n",
    "    # Calcular y mostrar la matriz de confusion\n",
    "    print(\"Matriz de Confusion:\")\n",
    "    print(confusion_matrix(y_test, y_pred))\n",
    "\n",
    "    # Generar y mostrar la curva ROC\n",
    "    if not multiclass:\n",
    "        print(\"Curva ROC:\")\n",
    "        fpr, tpr, _ = roc_curve(y_test, y_pred)\n",
    "        plt.plot(fpr, tpr, label=f\"AUC = {roc_auc_score(y_test, y_pred)})\")\n",
    "        plt.plot([0, 1], [0, 1], linestyle=\"--\", color=\"gray\")\n",
    "        plt.title(\"Curva ROC\")\n",
    "        plt.xlabel(\"Tasa de Falsos Positivos (FPR)\")\n",
    "        plt.ylabel(\"Tasa de Verdaderos Positivos (TPR)\")\n",
    "        plt.legend()\n",
    "        plt.show()"
   ]
  },
  {
   "cell_type": "code",
   "execution_count": null,
   "metadata": {},
   "outputs": [],
   "source": [
    "get_accuracy(y_test_encoded, y_pred, True)"
   ]
  },
  {
   "cell_type": "markdown",
   "metadata": {},
   "source": [
    "### Modelado (1 vs All)"
   ]
  },
  {
   "cell_type": "markdown",
   "metadata": {},
   "source": [
    "En esta sección, vamos a entrenar un segundo modelo utilizando la estrategia One vs All (OvA). En lugar de tratar la clasificación como un problema multiclase, entrenaremos un modelo binario para cada clase, donde cada modelo aprenderá a distinguir una maniobra en particular contra todas las demás.\n",
    "\n",
    "Este enfoque puede ser útil en escenarios donde algunas clases son más difíciles de diferenciar y puede mejorar el rendimiento en comparación con un modelo de clasificación multiclase estándar."
   ]
  },
  {
   "cell_type": "code",
   "execution_count": null,
   "metadata": {},
   "outputs": [],
   "source": [
    "# Concatenar la codificacion one-hot de maniobra y anadirla al dataframe\n",
    "df_train_flat = pd.concat([df_train_flat, pd.get_dummies(df_train_flat['maniobra'])], axis=1).drop(columns='maniobra')\n",
    "df_test_flat = pd.concat([df_test_flat, pd.get_dummies(df_test_flat['maniobra'])], axis=1).drop(columns='maniobra')"
   ]
  },
  {
   "cell_type": "code",
   "execution_count": null,
   "metadata": {},
   "outputs": [],
   "source": [
    "df_train_flat.columns[-5:]"
   ]
  },
  {
   "cell_type": "code",
   "execution_count": null,
   "metadata": {},
   "outputs": [],
   "source": [
    "# '3step-Turning', 'Overtaking', 'Stopping', 'Turnings', 'U-Turnings'\n",
    "X_train_flat = df_train_flat.drop(columns=['3step-Turning', 'Overtaking', 'Stopping', 'Turnings', 'U-Turnings'])\n",
    "X_test_flat = df_test_flat.drop(columns=['3step-Turning', 'Overtaking', 'Stopping', 'Turnings', 'U-Turnings'])\n",
    "\n",
    "# 3step-Turning\n",
    "y_train_flat_3step = df_train_flat['3step-Turning']\n",
    "y_test_flat_3step = df_test_flat['3step-Turning']\n",
    "# Overtaking\n",
    "y_train_flat_overtaking = df_train_flat['Overtaking']\n",
    "y_test_flat_overtaking = df_test_flat['Overtaking']\n",
    "# Stopping\n",
    "y_train_flat_stopping = df_train_flat['Stopping']\n",
    "y_test_flat_stopping = df_test_flat['Stopping']\n",
    "# Turnings\n",
    "y_train_flat_turnings = df_train_flat['Turnings']\n",
    "y_test_flat_turnings = df_test_flat['Turnings']\n",
    "# U-Turnings\n",
    "y_train_flat_uturnings = df_train_flat['U-Turnings']\n",
    "y_test_flat_uturnings = df_test_flat['U-Turnings']"
   ]
  },
  {
   "cell_type": "markdown",
   "metadata": {},
   "source": [
    "##### Escalado MinMax"
   ]
  },
  {
   "cell_type": "markdown",
   "metadata": {},
   "source": [
    "Al igual que en el modelo multiclase, es necesario escalar las características antes de entrenar el modelo One vs All (OvA). Esto asegura que todas las variables tengan un rango similar y evita que características con valores grandes dominen sobre otras."
   ]
  },
  {
   "cell_type": "code",
   "execution_count": null,
   "metadata": {},
   "outputs": [],
   "source": [
    "# Escalador MinMax\n",
    "scaler = MinMaxScaler()\n",
    "X_train_scaled = scaler.fit_transform(X_train_flat)\n",
    "X_test_scaled = scaler.transform(X_test_flat)"
   ]
  },
  {
   "cell_type": "markdown",
   "metadata": {},
   "source": [
    "##### Entrenamiento de Modelos"
   ]
  },
  {
   "cell_type": "markdown",
   "metadata": {},
   "source": [
    "En esta parte, en lugar de usar OneVsRestClassifier, se entrena un modelo independiente para cada clase de manera manual. Para cada maniobra, creamos un clasificador binario XGBoost, donde la clase objetivo se trata como positiva y todas las demás clases se agrupan como negativas.\n",
    "\n",
    "Este enfoque permite personalizar los hiperparámetros de cada modelo según la distribución de los datos de cada clase.\n",
    "\n",
    "Entrenamos los modelos con la metrica logloss (clase binaria).\n",
    "\n",
    "Escalamos el peso del positivo a 5 (5 maniobras, por lo que para balancearlo lo escalamos a 5)"
   ]
  },
  {
   "cell_type": "code",
   "execution_count": null,
   "metadata": {},
   "outputs": [],
   "source": [
    "# 3step-Turning\n",
    "model_3step = XGBClassifier(\n",
    "    objective='binary:logistic',\n",
    "    scale_pos_weight=5,\n",
    "    eval_metric='logloss',\n",
    "    random_state=42\n",
    ")\n",
    "model_3step.fit(X_train_flat, y_train_flat_3step)\n",
    "\n",
    "# Overtaking\n",
    "model_overtaking = XGBClassifier(\n",
    "    objective='binary:logistic',\n",
    "    scale_pos_weight=5,\n",
    "    eval_metric='logloss',\n",
    "    random_state=42\n",
    ")\n",
    "model_overtaking.fit(X_train_flat, y_train_flat_overtaking)\n",
    "\n",
    "# Stopping\n",
    "model_stopping = XGBClassifier(\n",
    "    objective='binary:logistic',\n",
    "    scale_pos_weight=5,\n",
    "    eval_metric='logloss',\n",
    "    random_state=42\n",
    ")\n",
    "model_stopping.fit(X_train_flat, y_train_flat_stopping)\n",
    "\n",
    "# Turnings\n",
    "model_turnings = XGBClassifier(\n",
    "    objective='binary:logistic',\n",
    "    scale_pos_weight=5,\n",
    "    eval_metric='logloss',\n",
    "    random_state=42\n",
    ")\n",
    "model_turnings.fit(X_train_flat, y_train_flat_turnings)\n",
    "\n",
    "# U-Turnings\n",
    "model_uturnings = XGBClassifier(\n",
    "    objective='binary:logistic',\n",
    "    scale_pos_weight=5,\n",
    "    eval_metric='logloss',\n",
    "    random_state=42\n",
    ")\n",
    "model_uturnings.fit(X_train_flat, y_train_flat_uturnings)"
   ]
  },
  {
   "cell_type": "markdown",
   "metadata": {},
   "source": [
    "##### Evaluación"
   ]
  },
  {
   "cell_type": "markdown",
   "metadata": {},
   "source": [
    "Una vez entrenados los modelos binarios para cada maniobra, evaluamos su rendimiento utilizando varias métricas clave:\n",
    "\n",
    "- Precisión (accuracy_score): proporción de predicciones correctas.\n",
    "- Reporte de clasificación (classification_report): incluye precisión, recall y F1-score.\n",
    "- Matriz de confusión (confusion_matrix): muestra los aciertos y errores en la clasificación.\n",
    "- ROC AUC (roc_auc_score): mide la capacidad del modelo para distinguir entre clases.\n",
    "- Curva ROC (roc_curve): representa gráficamente la capacidad del modelo para diferenciar clases."
   ]
  },
  {
   "cell_type": "code",
   "execution_count": null,
   "metadata": {},
   "outputs": [],
   "source": [
    "y_pred_3step = model_3step.predict(X_test_flat)\n",
    "y_pred_overtaking = model_overtaking.predict(X_test_flat)\n",
    "y_pred_stopping = model_stopping.predict(X_test_flat)\n",
    "y_pred_turnings = model_turnings.predict(X_test_flat)\n",
    "y_pred_uturnings = model_uturnings.predict(X_test_flat)\n",
    "\n",
    "get_accuracy(y_test_flat_3step, y_pred_3step)\n",
    "get_accuracy(y_test_flat_overtaking, y_pred_overtaking)\n",
    "get_accuracy(y_test_flat_stopping, y_pred_stopping)\n",
    "get_accuracy(y_test_flat_turnings, y_pred_turnings)\n",
    "get_accuracy(y_test_flat_uturnings, y_pred_uturnings)"
   ]
  },
  {
   "cell_type": "markdown",
   "metadata": {},
   "source": [
    "##### Explicabilidad con SHAP"
   ]
  },
  {
   "cell_type": "markdown",
   "metadata": {},
   "source": [
    "TODO: Explica esto"
   ]
  },
  {
   "cell_type": "code",
   "execution_count": null,
   "metadata": {},
   "outputs": [],
   "source": [
    "# Establecer figsize a (10, 10)\n",
    "plt.figure(figsize=(10, 10))\n",
    "\n",
    "explainer = shap.TreeExplainer(model_3step)\n",
    "shap_values = explainer.shap_values(X_test_flat)\n",
    "\n",
    "shap.summary_plot(shap_values, X_test_flat, plot_type=\"bar\", plot_size=(8,6))\n",
    "\n",
    "shap.summary_plot(shap_values, X_test_flat, plot_size=(8,6))\n",
    "\n",
    "# Supongamos que ya tienes shap_values y X_test_scaled\n",
    "instance_idx = 0  # Seleccionamos una instancia\n",
    "# Valor real de la etiqueta para la instancia\n",
    "real_value = y_test.iloc[instance_idx]  # o y_test[instance_idx] si es un array"
   ]
  },
  {
   "cell_type": "markdown",
   "metadata": {},
   "source": [
    "### Conclusión"
   ]
  },
  {
   "cell_type": "markdown",
   "metadata": {},
   "source": [
    "##### Fuga de Datos"
   ]
  },
  {
   "attachments": {
    "image-2.png": {
     "image/png": "[encoded data removed]"
    },
    "image.png": {
     "image/png": "[encoded data removed]"
    }
   },
   "cell_type": "markdown",
   "metadata": {},
   "source": [
    "Se sospecha fuertemente que hay una fuga de datos por parte de los atributos de latitud y longitud, principalmente del latitud.\n",
    "\n",
    "Mediante SHAP se ve que laitutd tiene un impacto abrumador en la salida de la predicción.\n",
    "\n",
    "Se sospecha que esto es algo específico del simulador, en la cual los recorridos parten de la misma posición o que siguen un trayecto espacial muy similar.\n",
    "\n",
    "Debido a esto, si se mantienen estos datos de localización, el modelo tendría un rendimiento extremadamente alto para situaciones de la simulación mientras que este rendimiento no se trasladaría a uno en la vida real, ya que no estarás siempre en la misma posición recorriendo el mismo trayecto.\n",
    "\n",
    "![image-2.png](attachment:image-2.png)\n",
    "![image.png](attachment:image.png)\n"
   ]
  },
  {
   "cell_type": "markdown",
   "metadata": {},
   "source": [
    "##### Rendimiento del Modelo"
   ]
  }
 ],
 "metadata": {
  "kernelspec": {
   "display_name": "Python 3",
   "language": "python",
   "name": "python3"
  },
  "language_info": {
   "codemirror_mode": {
    "name": "ipython",
    "version": 3
   },
   "file_extension": ".py",
   "mimetype": "text/x-python",
   "name": "python",
   "nbconvert_exporter": "python",
   "pygments_lexer": "ipython3",
   "version": "3.13.2"
  }
 },
 "nbformat": 4,
 "nbformat_minor": 2
}
